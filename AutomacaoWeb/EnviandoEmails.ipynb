{
 "cells": [
  {
   "attachments": {},
   "cell_type": "markdown",
   "id": "a7447279",
   "metadata": {},
   "source": [
    "# Automação de Sistemas e Processos com Python\n",
    "\n",
    "### Desafio:\n",
    "\n",
    "Para controle de custos, todos os dias, seu chefe pede um relatório com todas as compras de mercadorias da empresa.<br>\n",
    "O seu trabalho, como analista, é enviar um e-mail para ele, assim que começar a trabalhar, com o total gasto, a quantidade de produtos compradas e o preço médio dos produtos.\n",
    "\n",
    "E-mail do seu chefe: para o nosso exercício, coloque um e-mail seu como sendo o e-mail do seu chefe<br>\n",
    "Link de acesso ao sistema da empresa: https://pages.hashtagtreinamentos.com/aula1-intensivao-sistema\n",
    "\n",
    "Para resolver isso, vamos usar o pyautogui, uma biblioteca de automação de comandos do mouse e do teclado e a biblioteca pandas para manipular dados da base de dados.<br><br>\n",
    "Para instalar as bibliotecas caso não tenha é só utilizar o pip: <br><br>\n",
    "Para o Pyautogui: <br> %pip install pyautogui<br><br> \n",
    "Para o Pandas: <br> %pip install pandas<br>\n",
    "#### Sobre o pyautogui\n",
    "Alguns dos comandos:<br><br>\n",
    "pyautogui.click -> Clique com o mouse <br>\n",
    "pyautogui.write -> Escrever um texto<br> \n",
    "pyautogui.press -> Apertar uma tecla<br>\n",
    "pyautogui.hotkey -> Aperta uma combinação de tecla<br><br>\n",
    "Importante:<br>\n",
    "As coordenadas do 'pyautogui.click()' pode mudar de acordo com<br>\n",
    "a resolução da tela, verificar com o comando pyautogui.position()<br>\n",
    "para pegar as novas coordenadas caso precise. \n",
    "<br><br>\n",
    "Informações mais completas sobre o pyautogui no link abaixo:<br>\n",
    "https://pyautogui.readthedocs.io/en/latest/quickstart.html"
   ]
  },
  {
   "attachments": {},
   "cell_type": "markdown",
   "id": "848db2ed",
   "metadata": {},
   "source": [
    "### Passo 1\n",
    "Entrar no sistema da empresa, através do navegador<br>\n",
    "utilizando o link de acesso citado anteriormente."
   ]
  },
  {
   "cell_type": "code",
   "execution_count": 8,
   "id": "fb359bd9",
   "metadata": {},
   "outputs": [],
   "source": [
    "import pyautogui as pyg\n",
    "import time as tm\n",
    "import pyperclip as pyc\n",
    "pyg.PAUSE = 1\n",
    "pyg.press(\"win\")\n",
    "pyg.write(\"google\")\n",
    "tm.sleep(5)\n",
    "pyg.press(\"enter\")\n",
    "tm.sleep(5)\n",
    "pyc.copy(\"https://pages.hashtagtreinamentos.com/aula1-intensivao-sistema\")\n",
    "pyg.hotkey(\"ctrl\",\"v\")\n",
    "pyg.press(\"enter\")\n",
    "tm.sleep(5)\n"
   ]
  },
  {
   "attachments": {},
   "cell_type": "markdown",
   "id": "16572357",
   "metadata": {},
   "source": [
    "### Passo 2\n",
    "Fazer login no sistema, para acessar a base de dados."
   ]
  },
  {
   "cell_type": "code",
   "execution_count": 9,
   "id": "b7389262",
   "metadata": {},
   "outputs": [],
   "source": [
    "import pyautogui as pyg\n",
    "import time as tm\n",
    "pyg.PAUSE = 1\n",
    "#tm.sleep(5)\n",
    "#print(pyg.position())\n",
    "#Clicar no espaço de login\n",
    "pyg.click(x=859, y=339)\n",
    "pyg.write(\"Meu_Login\")\n",
    "#Descer para o espaço de senha\n",
    "pyg.press(\"tab\")\n",
    "pyg.write(\"minhasenha\")\n",
    "#Entrar na base de dados\n",
    "pyg.click(x=897, y=486)\n",
    "tm.sleep(10)"
   ]
  },
  {
   "attachments": {},
   "cell_type": "markdown",
   "id": "a087aac7",
   "metadata": {},
   "source": [
    "### Passo 3\n",
    "Fazer o download da base de dados da empresa."
   ]
  },
  {
   "cell_type": "code",
   "execution_count": 10,
   "id": "d9c0f077",
   "metadata": {},
   "outputs": [],
   "source": [
    "import pyautogui as pyg\n",
    "import time as tm\n",
    "pyg.PAUSE = 1\n",
    "#Abrindo o pop up pra fazer o download da base de dados\n",
    "pyg.click(x=1817, y=260)\n",
    "tm.sleep(4)\n",
    "#Clicando no butão de download para fazer o download da base de dados\n",
    "pyg.click(x=1486, y=758)\n",
    "tm.sleep(10)"
   ]
  },
  {
   "attachments": {},
   "cell_type": "markdown",
   "id": "97873f37",
   "metadata": {},
   "source": [
    "### Passo 4\n",
    "Manipular os dados adquiridos utilizando a biblioteca pandas para,<br> \n",
    "calcular os indicadores necessários, que são, soma total de produtos comprados, <br> \n",
    "quantidade de produtos comprados e o preço médio de cada produto."
   ]
  },
  {
   "cell_type": "code",
   "execution_count": 14,
   "id": "b8ebeb84",
   "metadata": {},
   "outputs": [],
   "source": [
    "#Passo 4\n",
    "#Calculando os indicadores da base de dados utilizando pandas\n",
    "import pandas as pd\n",
    "tabela = pd.read_csv(r\"C:/Users/Euest/Downloads/Compras.csv\", sep=\";\")\n",
    "#convertendo as colunas ValorFinal e ValorUnitário para float trocando \",\" pelo \".\"\n",
    "# tabela[\"ValorFinal\"] = tabela[\"ValorFinal\"].str.replace(\",\",\".\").astype(float)\n",
    "# tabela[\"ValorUnitário\"] = tabela[\"ValorUnitário\"].str.replace(\",\",\".\").astype(float)\n",
    "#display(tabela)\n",
    "#Soma da coluna de valor final\n",
    "somaValorFinal = tabela[\"ValorFinal\"].sum()\n",
    "#Soma da coluna de quantidade\n",
    "quantidade = tabela[\"Quantidade\"].sum()\n",
    "#Calculando a média de lucro dos preços\n",
    "preco_medio = (somaValorFinal / quantidade)\n",
    "#print(somaValorFinal)\n",
    "#print(quantidade)\n",
    "#print(preco_medio)"
   ]
  },
  {
   "attachments": {},
   "cell_type": "markdown",
   "id": "0f0c691e",
   "metadata": {},
   "source": [
    "### Passo 5\n",
    "Enviar o email para o superior com os dados adquiridos anteriormente,<br>\n",
    "mas atenção, para funcionar é importante que você já esteja logado na sua conta de email."
   ]
  },
  {
   "cell_type": "code",
   "execution_count": null,
   "id": "9fe04757",
   "metadata": {},
   "outputs": [],
   "source": [
    "#Passo 5:\n",
    "#Mandar o Email\n",
    "#Você já deve estar logado na sua conta no gmail\n",
    "import pyautogui as pyg\n",
    "import time as tm\n",
    "import pyperclip as pyc\n",
    "tm.sleep(7)\n",
    "pyg.PAUSE = 1\n",
    "#print(pyg.position())\n",
    "pyg.click(x=1835, y=96)\n",
    "pyg.click(x=1652, y=369)\n",
    "tm.sleep(14)\n",
    "pyg.click(x=42, y=168)\n",
    "tm.sleep(10)\n",
    "#Destinatário do \n",
    "#Utilize seu email\n",
    "pyg.write(\"pythonimpressionador@gmail.com\") \n",
    "pyg.press(\"tab\")\n",
    "pyg.press(\"tab\")\n",
    "tm.sleep(2)\n",
    "#Assunto do email\n",
    "pyc.copy(\"Relátorio de vendas\")\n",
    "pyg.hotkey(\"ctrl\",\"v\")\n",
    "pyg.press(\"tab\")\n",
    "#Corpo do email\n",
    "texto = f\"\"\"\n",
    "Prezados, \n",
    "Segue o relatório de compras\n",
    "\n",
    "Total Gasto: R${somaValorFinal:,.2f}\n",
    "Quantidade de produtos: {quantidade:,}\n",
    "Preço médio: R${preco_medio:,.2f}\n",
    "\n",
    "Qualquer dúvida, é só comunicar.\n",
    "Att., Gabriel Augusto\n",
    "\"\"\"\n",
    "pyc.copy(texto)\n",
    "pyg.hotkey(\"ctrl\",\"v\")\n",
    "tm.sleep(3)\n",
    "pyg.hotkey(\"ctrl\",\"enter\")\n"
   ]
  }
 ],
 "metadata": {
  "kernelspec": {
   "display_name": "Python 3 (ipykernel)",
   "language": "python",
   "name": "python3"
  },
  "language_info": {
   "codemirror_mode": {
    "name": "ipython",
    "version": 3
   },
   "file_extension": ".py",
   "mimetype": "text/x-python",
   "name": "python",
   "nbconvert_exporter": "python",
   "pygments_lexer": "ipython3",
   "version": "3.11.2"
  }
 },
 "nbformat": 4,
 "nbformat_minor": 5
}
